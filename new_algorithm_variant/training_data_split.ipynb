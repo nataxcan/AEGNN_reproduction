{
 "cells": [
  {
   "cell_type": "code",
   "execution_count": 1,
   "metadata": {},
   "outputs": [],
   "source": [
    "import io, os\n",
    "from os import listdir\n",
    "import numpy as np\n",
    "import random\n",
    "import json\n",
    "import shutil\n",
    "random.seed(1337)"
   ]
  },
  {
   "cell_type": "code",
   "execution_count": 2,
   "metadata": {},
   "outputs": [
    {
     "name": "stdout",
     "output_type": "stream",
     "text": [
      "[\n",
      "    {\n",
      "        \"old_location\": \"data/storage/ncaltech101/raw/gramophone/image_0018.bin\",\n",
      "        \"new_location\": \"data/storage/ncaltech101/training/gramophone/image_0018.bin\"\n",
      "    },\n",
      "    {\n",
      "        \"old_location\": \"data/storage/ncaltech101/raw/gramophone/image_0035.bin\",\n",
      "        \"new_location\": \"data/storage/ncaltech101/training/gramophone/image_0035.bin\"\n",
      "    },\n",
      "    {\n",
      "        \"old_location\": \"data/storage/ncaltech101/raw/gramophone/image_0037.bin\",\n",
      "        \"new_location\": \"data/storage/ncaltech101/training/gramophone/image_0037.bin\"\n",
      "    }\n",
      "]\n"
     ]
    }
   ],
   "source": [
    "# 1. load all folder paths and file paths\n",
    "start_folder = 'data/storage/ncaltech101/raw/'\n",
    "test_folder = 'data/storage/ncaltech101/test/'\n",
    "training_folder = 'data/storage/ncaltech101/training/'\n",
    "validation_folder = 'data/storage/ncaltech101/validation/'\n",
    "\n",
    "# start_folders = [] # list of folders (classes)\n",
    "# folder_files = {} # for each folder the list of files\n",
    "\n",
    "# # populate them\n",
    "# for folder in listdir(start_folder):\n",
    "#     folder_name = str(folder)\n",
    "#     folder_path = start_folder + folder_name + \"/\"\n",
    "#     start_folders.append(folder_path)\n",
    "#     folder_files[folder_path] = []\n",
    "#     for file in listdir(folder_path):\n",
    "#         folder_files[folder_path].append(str(file))\n",
    "\n",
    "# 2. compute where each should be moved to\n",
    "# split will be 80-10-10 train-test-validate\n",
    "move_objects = []\n",
    "for folder in listdir(start_folder):\n",
    "    folder_name = str(folder)\n",
    "    folder_path = start_folder + folder + \"/\"\n",
    "    folder_files = []\n",
    "    for file in listdir(folder_path):\n",
    "        folder_files.append(str(file))\n",
    "    \n",
    "        old_loc = folder_path + str(file)\n",
    "        new_loc_folder = random.choices([test_folder, training_folder, validation_folder], weights=(10, 80, 10), k=1)[0]\n",
    "        new_loc = new_loc_folder + folder + \"/\" + str(file)\n",
    "\n",
    "        move_objects.append(dict(\n",
    "            old_location=old_loc,\n",
    "            new_location=new_loc,\n",
    "        ))\n",
    "print(json.dumps(move_objects[:3], indent=4))"
   ]
  },
  {
   "cell_type": "code",
   "execution_count": 3,
   "metadata": {},
   "outputs": [
    {
     "name": "stdout",
     "output_type": "stream",
     "text": [
      "done\n"
     ]
    }
   ],
   "source": [
    "# 3. execute the copy\n",
    "\n",
    "# initialize folders\n",
    "[os.mkdir(test_folder + str(folder)) for folder in listdir(start_folder)]\n",
    "[os.mkdir(training_folder + str(folder)) for folder in listdir(start_folder)]\n",
    "[os.mkdir(validation_folder + str(folder)) for folder in listdir(start_folder)]\n",
    "print(\"done\")"
   ]
  },
  {
   "cell_type": "code",
   "execution_count": 4,
   "metadata": {},
   "outputs": [],
   "source": [
    "\n",
    "\n",
    "# move dataset objects\n",
    "for object in move_objects:\n",
    "    from_loc = object['old_location']\n",
    "    to_loc = object['new_location']\n",
    "    shutil.copyfile(from_loc, to_loc)"
   ]
  }
 ],
 "metadata": {
  "kernelspec": {
   "display_name": "dl_proj",
   "language": "python",
   "name": "python3"
  },
  "language_info": {
   "codemirror_mode": {
    "name": "ipython",
    "version": 3
   },
   "file_extension": ".py",
   "mimetype": "text/x-python",
   "name": "python",
   "nbconvert_exporter": "python",
   "pygments_lexer": "ipython3",
   "version": "3.8.13"
  },
  "orig_nbformat": 4
 },
 "nbformat": 4,
 "nbformat_minor": 2
}
