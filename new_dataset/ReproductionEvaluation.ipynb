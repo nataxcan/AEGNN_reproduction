{
 "cells": [
  {
   "cell_type": "code",
   "execution_count": null,
   "metadata": {},
   "outputs": [],
   "source": [
    "# general imports\n",
    "import torch as th\n",
    "import torch.nn.functional as F\n",
    "from torch_geometric.loader import DataLoader as PygDataLoader\n",
    "from torch.utils.data import SequentialSampler"
   ]
  },
  {
   "cell_type": "code",
   "execution_count": null,
   "metadata": {},
   "outputs": [],
   "source": [
    "import torch\n",
    "from torch.nn import CrossEntropyLoss\n",
    "from torch_geometric.data import DataLoader\n",
    "from dataloader import NCaltech101Best\n",
    "from dataloaderNCARS import NCarsBest\n",
    "from model import GraphRes\n",
    "from tqdm import tqdm"
   ]
  },
  {
   "cell_type": "code",
   "execution_count": null,
   "metadata": {},
   "outputs": [],
   "source": [
    "%env CUDA_LAUNCH_BLOCKING=1"
   ]
  },
  {
   "cell_type": "code",
   "execution_count": null,
   "metadata": {},
   "outputs": [],
   "source": [
    "# Set device to use for training\n",
    "device = torch.device('cuda' if torch.cuda.is_available() else 'cpu')\n",
    "print(\"using device:\", device)\n",
    "print(torch.cuda.get_device_name(0))\n",
    "# Initialize dataset and data loader\n",
    "dataset = NCaltech101Best('./data/storage/', mode='train')\n",
    "# sampler = SequentialSampler(dataset)\n",
    "# loader = DataLoader(dataset, batch_size=16, sampler=sampler)\n",
    "batch_size = 16\n",
    "loader = PygDataLoader(dataset, batch_size=batch_size, shuffle=True)\n",
    "print(\"example datapoint:\", dataset.get(0))\n",
    "print(dataset.get(0).size())\n",
    "\n",
    "classes = 101\n",
    "# Initialize model\n",
    "model_input_shape = th.tensor((240, 180) + (3, ), device=device)\n",
    "print(\"INPUT SHAPE:\", model_input_shape)\n",
    "model = GraphRes('ncaltech101', model_input_shape, classes).to(device)\n",
    "# model = torch.load(\"ncars_trained.model\")\n",
    "# Define loss function and optimizer\n",
    "criterion = CrossEntropyLoss().cuda()\n",
    "optimizer = torch.optim.Adam(model.parameters(), lr=0.001)\n",
    "# torch.backends.cudnn.benchmark = False\n",
    "acc = []\n",
    "# Define training loop\n",
    "def train():\n",
    "    model.train()\n",
    "    losses = []\n",
    "    correct = 0\n",
    "    i = 0\n",
    "    for data in tqdm(loader):\n",
    "        data = data.to(device)\n",
    "        # print(data)\n",
    "        optimizer.zero_grad()\n",
    "        output = model(data)\n",
    "        # print(output.size())\n",
    "        # break\n",
    "        # y_hat = F.softmax(  output, dim=-1)\n",
    "        y = F.one_hot(data.y, num_classes=classes).type(torch.cuda.FloatTensor)\n",
    "        loss = criterion(output, y)\n",
    "        losses.append(loss)\n",
    "        loss.backward()\n",
    "        optimizer.step()\n",
    "        pred = output.max(dim=1)[1]\n",
    "        correct += pred.eq(data.y).sum().item()\n",
    "        i += 1\n",
    "        # if i % 50 == 0:\n",
    "        #     print(correct, i*16)\n",
    "        #     print(correct / (i*16))\n",
    "    \n",
    "    acc.append(correct / (len(loader.dataset)))\n",
    "    print(acc[len(acc) - 1])\n",
    "    return losses\n",
    "\n",
    "testdata = NCaltech101Best('./data/storage/', mode='test')\n",
    "testloader = PygDataLoader(testdata, batch_size=16, shuffle=True)\n",
    "def test(model, loader):\n",
    "    model.eval()\n",
    "\n",
    "    correct = 0\n",
    "    for data in tqdm(loader):\n",
    "        data = data.to(device)\n",
    "        with torch.no_grad():\n",
    "            out = model(data)\n",
    "            y = F.one_hot(data.y, num_classes=classes).type(torch.cuda.FloatTensor)\n",
    "            loss = criterion(out, y)\n",
    "            pred = out.max(dim=1)[1]\n",
    "            correct += pred.eq(data.y).sum().item()\n",
    "    return loss, correct / len(loader.dataset)\n",
    "\n",
    "# Run training loop for 10 epochs\n",
    "all_losses = []\n",
    "test_accuracy = []\n",
    "test_loss = []\n",
    "for epoch in range(40):\n",
    "    if epoch == 20:\n",
    "        optimizer = torch.optim.Adam(model.parameters(), lr=0.0001)\n",
    "    print(\"computing epoch\", epoch)\n",
    "    trainloss = train()\n",
    "    loss, acc2 = test(model, testloader)\n",
    "    test_accuracy.append(acc2)\n",
    "    test_loss.append(loss)\n",
    "    all_losses.append(trainloss)\n",
    "    print(\"test_accuracy: \", test_accuracy[epoch])\n",
    "    print(\"test_loss: \", test_loss[epoch])"
   ]
  },
  {
   "cell_type": "code",
   "execution_count": null,
   "metadata": {},
   "outputs": [],
   "source": [
    "torch.save(model, \"ncaltech101.model\")"
   ]
  },
  {
   "cell_type": "code",
   "execution_count": null,
   "metadata": {},
   "outputs": [],
   "source": [
    "all_losses2 = [l.cpu().detach().numpy() for listie in all_losses for l in listie]\n",
    "test_loss2 = [l.cpu().detach().numpy() for l in test_loss]\n",
    "print(all_losses2)\n",
    "print(test_loss2)\n"
   ]
  },
  {
   "cell_type": "code",
   "execution_count": null,
   "metadata": {},
   "outputs": [],
   "source": [
    "# what to do with the losses...\n",
    "\n",
    "# list_losses = []\n",
    "# for losses in all_losses:\n",
    "#     list_losses += losses\n",
    "\n",
    "# list_losses2 = [l.cpu().detach().numpy() for l in list_losses]\n",
    "\n",
    "import matplotlib as mpl\n",
    "import matplotlib.pyplot as plt\n",
    "\n",
    "fig, (ax1,ax2) = plt.subplots(2)\n",
    "\n",
    "ax1.plot(range(len(acc)), acc)\n",
    "ax1.set_title('Training Accuracy')\n",
    "\n",
    "ax2.plot(range(len(test_accuracy)), test_accuracy)\n",
    "ax2.set_title('Test Accuracy')\n",
    "plt.tight_layout()\n",
    "fig.show()"
   ]
  }
 ],
 "metadata": {
  "kernelspec": {
   "display_name": "dl_proj",
   "language": "python",
   "name": "python3"
  },
  "language_info": {
   "codemirror_mode": {
    "name": "ipython",
    "version": 3
   },
   "file_extension": ".py",
   "mimetype": "text/x-python",
   "name": "python",
   "nbconvert_exporter": "python",
   "pygments_lexer": "ipython3",
   "version": "3.8.13"
  },
  "orig_nbformat": 4
 },
 "nbformat": 4,
 "nbformat_minor": 2
}
